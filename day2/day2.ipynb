{
 "cells": [
  {
   "cell_type": "code",
   "execution_count": 12,
   "metadata": {},
   "outputs": [
    {
     "name": "stdout",
     "output_type": "stream",
     "text": [
      "2545\n"
     ]
    }
   ],
   "source": [
    "import pandas as pd\n",
    "import re\n",
    "\n",
    "\n",
    "file_path = 'input.txt'\n",
    "results_list = []\n",
    "with open(file_path, 'r') as file:\n",
    "    for line in file:\n",
    "        game, results = line.strip().split(':')\n",
    "        game_number = int(game.split(' ')[-1])\n",
    "        results = results.split(';')\n",
    "        for r in results:\n",
    "            find_red = re.search(r'(\\d+)\\s+red', r)\n",
    "            find_green = re.search(r'(\\d+)\\s+green', r)\n",
    "            find_blue = re.search(r'(\\d+)\\s+blue', r)\n",
    "            res = {'game_number': game_number, 'red': 0, 'green': 0, 'blue': 0}\n",
    "            if find_red:\n",
    "                res['red'] = int(find_red.group(1))\n",
    "            if find_green:\n",
    "                res['green'] = int(find_green.group(1))\n",
    "            if find_blue:\n",
    "                res['blue'] = int(find_blue.group(1))\n",
    "            results_list.append(res)\n",
    "df = pd.DataFrame(results_list)\n",
    "df['passed_test'] = (df['red'] <= 12) & (df['green'] <= 13) & (df['blue'] <= 14)\n",
    "df_passed = df.groupby('game_number')['passed_test'].mean().reset_index()\n",
    "\n",
    "solution = df_passed.query('passed_test == 1')['game_number'].sum()\n",
    "print(solution)"
   ]
  },
  {
   "cell_type": "code",
   "execution_count": 13,
   "metadata": {},
   "outputs": [
    {
     "name": "stdout",
     "output_type": "stream",
     "text": [
      "78111\n"
     ]
    }
   ],
   "source": [
    "df_max = df.groupby(['game_number'])[['red', 'green', 'blue']].max()\n",
    "df['power'] = df_max['red'] * df_max['green'] * df_max['blue']\n",
    "pt2_solution = int(df['power'].sum())\n",
    "print(pt2_solution)"
   ]
  }
 ],
 "metadata": {
  "kernelspec": {
   "display_name": "Python 3",
   "language": "python",
   "name": "python3"
  },
  "language_info": {
   "codemirror_mode": {
    "name": "ipython",
    "version": 3
   },
   "file_extension": ".py",
   "mimetype": "text/x-python",
   "name": "python",
   "nbconvert_exporter": "python",
   "pygments_lexer": "ipython3",
   "version": "3.11.6"
  }
 },
 "nbformat": 4,
 "nbformat_minor": 2
}
