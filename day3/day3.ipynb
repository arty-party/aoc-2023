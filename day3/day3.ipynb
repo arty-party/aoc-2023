{
 "cells": [
  {
   "cell_type": "code",
   "execution_count": 24,
   "metadata": {},
   "outputs": [],
   "source": [
    "import re\n",
    "from itertools import *"
   ]
  },
  {
   "cell_type": "code",
   "execution_count": 25,
   "metadata": {},
   "outputs": [
    {
     "name": "stdout",
     "output_type": "stream",
     "text": [
      "536576\n"
     ]
    }
   ],
   "source": [
    "file_path = 'input.txt'\n",
    "example = 'example.txt'\n",
    "\n",
    "def find_valid_data(lines):\n",
    "    clean_data = re.compile(r'[^\\d\\.]')\n",
    "    sum = 0\n",
    "    for l in range(len(lines)):\n",
    "        line = lines[l]\n",
    "        for m in re.finditer(r'\\d+', line):\n",
    "            b = max(0, m.start() - 1)\n",
    "            e = min(len(line), m.end() + 1)\n",
    "\n",
    "            if any(clean_data.search(lines[j][b:e]) for j in range(max(0, l-1), min(len(lines), l + 2))):\n",
    "                sum += int(m.group(0))\n",
    "    return sum\n",
    "\n",
    "# test\n",
    "with open(example) as f:\n",
    "    solve = f.read().splitlines()\n",
    "assert(find_valid_data(solve) == 4361)\n",
    "\n",
    "# solution\n",
    "with open(file_path) as f:\n",
    "    solve = f.read().splitlines()\n",
    "print(find_valid_data(solve))"
   ]
  },
  {
   "cell_type": "code",
   "execution_count": 26,
   "metadata": {},
   "outputs": [
    {
     "name": "stdout",
     "output_type": "stream",
     "text": [
      "75741499\n"
     ]
    }
   ],
   "source": [
    "def find_gears(lines):\n",
    "    w, h = len(lines[0]), len(lines)\n",
    "    numbs = [ [None] * w for _ in range(h) ]\n",
    "    num_idx = 0\n",
    "    for (y, line) in enumerate(lines):\n",
    "        for m in re.finditer(r'\\d+', line):\n",
    "            for x in range(m.start(), m.end()):\n",
    "                numbs[y][x] = (num_idx, int(m.group(0)))\n",
    "            num_idx += 1\n",
    "\n",
    "    sum = 0\n",
    "    for (y, line) in enumerate(lines):\n",
    "        for x in map(lambda x: x.start(), re.finditer(r'\\*', line)):\n",
    "            adj_nums = set()\n",
    "\n",
    "            for (nx, ny) in product([x-1, x, x+1], [y-1, y, y+1]):\n",
    "                if 0 <= nx < w and 0 <= ny < h and numbs[ny][nx] is not None:\n",
    "                    adj_nums.add(numbs[ny][nx])\n",
    "\n",
    "            if len(adj_nums) == 2:\n",
    "                sum += adj_nums.pop()[1] * adj_nums.pop()[1]\n",
    "    return sum\n",
    "\n",
    "with open(example) as f:\n",
    "    solve = f.read().splitlines()\n",
    "assert(find_gears(solve) == 467835)\n",
    "# solution\n",
    "with open(file_path) as f:\n",
    "    solve = f.read().splitlines()\n",
    "print(find_gears(solve))"
   ]
  }
 ],
 "metadata": {
  "kernelspec": {
   "display_name": "Python 3",
   "language": "python",
   "name": "python3"
  },
  "language_info": {
   "codemirror_mode": {
    "name": "ipython",
    "version": 3
   },
   "file_extension": ".py",
   "mimetype": "text/x-python",
   "name": "python",
   "nbconvert_exporter": "python",
   "pygments_lexer": "ipython3",
   "version": "3.11.6"
  }
 },
 "nbformat": 4,
 "nbformat_minor": 2
}
