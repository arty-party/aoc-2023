{
 "cells": [
  {
   "cell_type": "code",
   "execution_count": 15,
   "metadata": {},
   "outputs": [],
   "source": [
    "import numpy as np\n",
    "import re"
   ]
  },
  {
   "cell_type": "code",
   "execution_count": 16,
   "metadata": {},
   "outputs": [
    {
     "name": "stdout",
     "output_type": "stream",
     "text": [
      "55971\n"
     ]
    }
   ],
   "source": [
    "file_path = 'input.txt'\n",
    "numbers = []\n",
    "with open(file_path, 'r') as file:\n",
    "    for line in file:\n",
    "        line = line.strip()\n",
    "        if line:\n",
    "            line_nums = []\n",
    "            for value in line:\n",
    "                if value.isnumeric():\n",
    "                    line_nums.append(int(value))\n",
    "            numbers.append(line_nums)\n",
    "two_digit_nums = [n[0]*10 + n[-1] for n in numbers]\n",
    "result = np.sum(two_digit_nums)\n",
    "print(result)"
   ]
  },
  {
   "cell_type": "code",
   "execution_count": 17,
   "metadata": {},
   "outputs": [
    {
     "data": {
      "text/plain": [
       "54719"
      ]
     },
     "execution_count": 17,
     "metadata": {},
     "output_type": "execute_result"
    }
   ],
   "source": [
    "numbers = []\n",
    "lines = []\n",
    "with open(file_path, 'r') as file:\n",
    "    for line in file:\n",
    "        line = line.strip()\n",
    "        if line:\n",
    "            line_words = re.findall(r'(?=(1|2|3|4|5|6|7|8|9|one|two|three|four|five|six|seven|eight|nine))', line)\n",
    "            numbers.append(line_words)\n",
    "            lines.append(line)\n",
    "\n",
    "def text_to_digit(text):\n",
    "    if text == 'one':\n",
    "        return 1\n",
    "    elif text == 'two':\n",
    "        return 2\n",
    "    elif text == 'three':\n",
    "        return 3\n",
    "    elif text == 'four':\n",
    "        return 4\n",
    "    elif text == 'five':\n",
    "        return 5\n",
    "    elif text == 'six':\n",
    "        return 6\n",
    "    elif text == 'seven':\n",
    "        return 7\n",
    "    elif text == 'eight':\n",
    "        return 8\n",
    "    elif text == 'nine':\n",
    "        return 9\n",
    "    else:\n",
    "        return int(text)\n",
    "\n",
    "digit_numbers = []\n",
    "for l in numbers:\n",
    "    first = l[0]\n",
    "    last = l[-1]\n",
    "    if first.isnumeric():\n",
    "        last = text_to_digit(last)\n",
    "    elif last.isnumeric():\n",
    "        first = text_to_digit(first)\n",
    "    elif not first.isnumeric() and not last.isnumeric():\n",
    "        first = text_to_digit(first)\n",
    "        last = text_to_digit(last)\n",
    "    digit_numbers.append(int(first)*10 + int(last))\n",
    "np.sum(digit_numbers)\n"
   ]
  }
 ],
 "metadata": {
  "kernelspec": {
   "display_name": "Python 3",
   "language": "python",
   "name": "python3"
  },
  "language_info": {
   "codemirror_mode": {
    "name": "ipython",
    "version": 3
   },
   "file_extension": ".py",
   "mimetype": "text/x-python",
   "name": "python",
   "nbconvert_exporter": "python",
   "pygments_lexer": "ipython3",
   "version": "3.11.6"
  }
 },
 "nbformat": 4,
 "nbformat_minor": 2
}
